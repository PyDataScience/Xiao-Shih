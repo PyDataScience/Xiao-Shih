{
 "cells": [
  {
   "cell_type": "markdown",
   "metadata": {},
   "source": [
    "H. Hsu and N. Huang, “Xiao-Shih: A Self-enriched Question Answering Bot With Machine Learning on Chinese-Based MOOCs,” <I>IEEE Trans. Learning Technologies</I>. (Under Review)"
   ]
  },
  {
   "cell_type": "markdown",
   "metadata": {},
   "source": [
    "# Spreading Question Similarity (SQS)\n",
    "SQS algorithm was proposed to compute question similarities based on keyword networks. As the name suggests, this algorithm spreads the degree of relationship between the most relevant keywords by iterating the neighbors on keyword networks. Because of this, vectors will not only be generated with existing keywords but also existing keywords will find other relevant keywords and integrate their similarities into vectors.\n",
    "\n",
    "### xiaoshih.SQS(wv_model_path, keywords)\n",
    "<b>Parameters:</b>\n",
    "- wv_model_path: str, <I>path object of a word2vec model</I>\n",
    "- keywords: set, <I>path object of keywords for tokenizing text</I>"
   ]
  },
  {
   "cell_type": "code",
   "execution_count": 1,
   "metadata": {},
   "outputs": [],
   "source": [
    "import warnings\n",
    "warnings.filterwarnings('ignore')"
   ]
  },
  {
   "cell_type": "markdown",
   "metadata": {},
   "source": [
    "## 1. Preparing keywords and word2vec model\n",
    "Course \"Python for Data Science\" (PDS): \n",
    "- word2vec model: word2vec_model/pds\n",
    "- keywords: corpus/keywords_pds.txt\n",
    "\n",
    "Course \"Introduction to Computer Networks\" (ICN): \n",
    "- word2vec model: word2vec_model/icn\n",
    "- keywords: corpus/keywords_icn.txt"
   ]
  },
  {
   "cell_type": "code",
   "execution_count": 2,
   "metadata": {},
   "outputs": [],
   "source": [
    "keywords = set()\n",
    "with open('corpus/keywords_pds.txt','r') as f:\n",
    "    for line in f:\n",
    "        keywords.add(line.strip())"
   ]
  },
  {
   "cell_type": "code",
   "execution_count": 3,
   "metadata": {},
   "outputs": [],
   "source": [
    "from xiaoshih import SQS\n",
    "sqs = SQS(wv_model_path='word2vec_model/pds', keywords=keywords)"
   ]
  },
  {
   "cell_type": "markdown",
   "metadata": {},
   "source": [
    "## 2. Executing SQS and generating VSMs (vector space models) of questions\n",
    "### SQS.text2ngram(text, n)\n",
    "<b>Parameters:</b>\n",
    "- text: str, <I>the text of a question</I>\n",
    "- n: int, <I>used for ngram algorithm</I>"
   ]
  },
  {
   "cell_type": "markdown",
   "metadata": {},
   "source": [
    "#### An example shows how SQS works with English text."
   ]
  },
  {
   "cell_type": "code",
   "execution_count": 4,
   "metadata": {},
   "outputs": [],
   "source": [
    "question = 'how to plot a heatmap?'"
   ]
  },
  {
   "cell_type": "code",
   "execution_count": 5,
   "metadata": {},
   "outputs": [
    {
     "name": "stderr",
     "output_type": "stream",
     "text": [
      "Building prefix dict from the default dictionary ...\n",
      "Loading model from cache /var/folders/cr/_xbyk0wn69jdw48ygj_6w_w00000gn/T/jieba.cache\n",
      "Loading model cost 0.650 seconds.\n",
      "Prefix dict has been built successfully.\n"
     ]
    },
    {
     "name": "stdout",
     "output_type": "stream",
     "text": [
      "['plot', 'heatmap']\n"
     ]
    }
   ],
   "source": [
    "tokens = sqs.text2ngram(text=question, n=5)\n",
    "print(tokens)"
   ]
  },
  {
   "cell_type": "markdown",
   "metadata": {},
   "source": [
    "### SQS.ngram2vsm(tokens)\n",
    "<b>Parameters:</b>\n",
    "- tokens: list, <I>the list of tokens generated from a question</I>"
   ]
  },
  {
   "cell_type": "code",
   "execution_count": 6,
   "metadata": {},
   "outputs": [
    {
     "name": "stdout",
     "output_type": "stream",
     "text": [
      "{'plot': 1, 'heatmap': 1}\n"
     ]
    }
   ],
   "source": [
    "vsm = sqs.ngram2vsm(tokens)\n",
    "print(vsm)"
   ]
  },
  {
   "cell_type": "markdown",
   "metadata": {},
   "source": [
    "### SQS.spreading_similarity(depth, tokens, topn, vsm)\n",
    "<b>Parameters:</b>\n",
    "- depth: int, <I>the depth of spreading question similarity on knowledge networks (KGs)</I>\n",
    "- tokens: list, <I>the list of tokens generated from a question</I>\n",
    "- topn: int, <I>extracting top n similar keywords from a word2vec model</I>\n",
    "- vsm: dict, <I>vector space model of a question</I>"
   ]
  },
  {
   "cell_type": "markdown",
   "metadata": {},
   "source": [
    "<b>SQS with depth=1</b>"
   ]
  },
  {
   "cell_type": "code",
   "execution_count": 7,
   "metadata": {},
   "outputs": [
    {
     "name": "stdout",
     "output_type": "stream",
     "text": [
      "{'bitmap': 0.8547123670578003, 'html input': 0.7219830751419067, 'colormap': 0.6446496248245239, 'seaborn': 1.2536998987197876, 'html5': 0.77767014503479, 'graph': 0.569450855255127, 'mplot3d': 0.5833823680877686, 'dml': 0.6419522166252136, 'gml': 0.6470009088516235, 'figsize': 0.6039561033248901, 'ggplot': 0.687764585018158, 'lxml': 0.615425705909729, 'boxplot': 0.7325916290283203, 'html': 0.7161680459976196, 'agents': 0.6629743576049805, 'trix': 0.5658433437347412, 'plot': 2, 'axes': 0.6319538354873657, 'aes': 0.5761990547180176, 'xgboost': 0.6083373427391052, 'heatmap': 2}\n"
     ]
    }
   ],
   "source": [
    "vsm = sqs.spreading_similarity(depth=1, tokens=tokens, topn=10, vsm=vsm)\n",
    "print(vsm)"
   ]
  },
  {
   "cell_type": "markdown",
   "metadata": {},
   "source": [
    "<b>SQS with depth=2</b>"
   ]
  },
  {
   "cell_type": "code",
   "execution_count": 8,
   "metadata": {},
   "outputs": [
    {
     "name": "stdout",
     "output_type": "stream",
     "text": [
      "{'文化部': 0.8027802109718323, 'uml': 0.7251225709915161, 'Seaborn': 1.3778547048568726, '羅吉斯': 0.799808144569397, 'contour': 1.1097870767116547, 'mplot3d': 4.131114661693573, 'web.xml': 3.7222737669944763, 'gas': 0.7223443984985352, 'yaxis': 1.3975439071655273, 'ggplot': 6.6922173500061035, '作圖': 0.7126445174217224, 'tm': 2.1172672510147095, 'ax1': 3.385937988758087, '收錄國內展演': 1.5479412078857422, '3d': 0.6745867729187012, '再加': 0.7167825102806091, '最大值': 0.7477145791053772, 'bitmap': 4.265951991081238, 'confusion matrix': 0.6560948491096497, 'seaborn': 6.709187626838684, 'ml': 0.8418811559677124, 'wt': 0.5851527452468872, '故事': 0.8029372096061707, 'mask': 0.604655385017395, 'fusion': 0.6689865589141846, '國內展演空間': 0.7920407056808472, 'agents': 7.2940661907196045, 'html': 5.269179821014404, 'att': 0.5665087103843689, 'hue': 1.3775079846382141, 'NLP': 0.7477859258651733, 'igraph': 0.6725866198539734, '建物': 0.7144760489463806, 'xml': 2.235849916934967, 'kwds': 0.6766580939292908, 'dml': 7.5531615018844604, 'animation': 0.6797467470169067, 'mp4': 0.7522686719894409, 'seam': 2.325780928134918, 'aes': 4.789275407791138, '圓餅': 0.7567448019981384, 'kde': 1.2502937316894531, 'format': 0.5757272243499756, 'axes': 4.323196053504944, '交易價': 1.3872641324996948, '箱形': 0.7224006652832031, 'resize': 0.6582806706428528, '問卷': 0.7926906943321228, 'epub': 0.4665928781032562, 'map': 1.1793019771575928, 'mlp': 0.7162891626358032, 'loglog': 1.336829960346222, 'sdf': 0.5839666128158569, '序列': 0.7240577936172485, 'gml': 6.434959590435028, 'lxml': 6.052283942699432, '子圖': 1.4812774658203125, 'kind': 0.6941472887992859, 'vrml': 2.1274604201316833, 'colormap': 3.540341019630432, '多變項線性': 0.8095666766166687, 'html input': 6.9705013036727905, 'symlink': 2.8691681027412415, 'graph': 2.708352565765381, 'wrapper': 0.5545565485954285, 'svd': 0.5040304064750671, 'linear regression': 0.7036767601966858, 'hdr': 0.45793092250823975, 'xlim': 1.282054841518402, '468': 0.6243245601654053, 'fonts': 0.7207950353622437, 'lvm': 0.6673378944396973, 'figsize': 4.121349811553955, 'heatmap': 8.365721106529236, 'Matplotlib': 3.36399644613266, 'trix': 2.6975300312042236, '失效': 0.779208779335022, 'html5': 7.916593015193939, 'showfliers': 0.707176923751831, 'toolkit': 1.496160089969635, 'reply': 0.49601978063583374, 'plot': 7.809091031551361, 'automation': 0.6946074962615967, '折線': 0.7109627723693848, 'nltk': 1.3446726202964783, 'gimp': 1.3056397438049316, 'boost': 1.429430365562439, '統計函式': 0.8256982564926147, 'approximation': 0.6255286335945129, 'line plot': 2.06687593460083, 'marker': 0.7684465646743774, 'uint32': 0.5188173055648804, 'rex': 0.6539967060089111, 'datatable': 0.7328848838806152, 'boxplot': 6.062100350856781, 'ltk': 1.3909668922424316, 'spread': 0.45326101779937744, 'xgboost': 3.488408923149109, 'legend': 0.6616390943527222}\n"
     ]
    }
   ],
   "source": [
    "vsm = sqs.spreading_similarity(depth=2, tokens=tokens, topn=10, vsm=vsm)\n",
    "print(vsm)"
   ]
  },
  {
   "cell_type": "markdown",
   "metadata": {},
   "source": [
    "#### Another example shows how SQS works with Chinese text."
   ]
  },
  {
   "cell_type": "code",
   "execution_count": 9,
   "metadata": {},
   "outputs": [
    {
     "name": "stdout",
     "output_type": "stream",
     "text": [
      "['讀取', '中文', 'CSV']\n"
     ]
    }
   ],
   "source": [
    "question = '如何讀取中文的 CSV 檔?'\n",
    "tokens = sqs.text2ngram(text=question, n=5)\n",
    "print(tokens)"
   ]
  },
  {
   "cell_type": "code",
   "execution_count": 10,
   "metadata": {},
   "outputs": [
    {
     "name": "stdout",
     "output_type": "stream",
     "text": [
      "{'中文': 1, '讀取': 1, 'CSV': 1}\n"
     ]
    }
   ],
   "source": [
    "vsm = sqs.ngram2vsm(tokens)\n",
    "print(vsm)"
   ]
  },
  {
   "cell_type": "markdown",
   "metadata": {},
   "source": [
    "<b>SQS with depth=1</b>"
   ]
  },
  {
   "cell_type": "code",
   "execution_count": 11,
   "metadata": {},
   "outputs": [
    {
     "name": "stdout",
     "output_type": "stream",
     "text": [
      "{'科學': 0.8575551509857178, 'Q2': 1.7136414051055908, '中文': 2, '讀取': 2.913317620754242, '資料科學實作': 0.8548364639282227, '請參考': 0.853739857673645, 'Excel 檔': 0.868510901927948, '匯出': 1.7170578837394714, '政府': 0.8685304522514343, '編碼': 0.8212184906005859, '解決': 1.7170233726501465, '一段': 0.8692190647125244, '混淆矩陣函式': 0.8130865097045898, 'CSV': 2.913317561149597, '標題': 0.8905748128890991, '斜線': 0.8246365189552307, '錯誤': 0.8125832080841064, '文件': 0.8597566485404968, '顯示中文': 0.9127604961395264, '英文': 0.9175906181335449, '字體': 0.9368928670883179, '資料科學': 0.8830405473709106, '確認': 0.8986414670944214, '呈現': 1.7149540781974792, '電腦': 0.8579882383346558, '案例': 0.8618677854537964, '快捷': 0.8264524936676025}\n"
     ]
    }
   ],
   "source": [
    "vsm = sqs.spreading_similarity(depth=1, tokens=tokens, topn=10, vsm=vsm)\n",
    "print(vsm)"
   ]
  },
  {
   "cell_type": "markdown",
   "metadata": {},
   "source": [
    "<b>SQS with depth=2</b>"
   ]
  },
  {
   "cell_type": "code",
   "execution_count": 12,
   "metadata": {},
   "outputs": [
    {
     "name": "stdout",
     "output_type": "stream",
     "text": [
      "{'科學': 5.4731199741363525, '符號': 3.7402597665786743, '匯出': 12.702610492706299, '小寫': 0.9085090756416321, 'Q2': 6.1409242153167725, '中文': 7.592450499534607, '網頁': 0.8878343105316162, '修改': 0.8456957936286926, 'ascii': 0.8152944445610046, '進階': 1.7766331434249878, '留下': 0.886789858341217, '工程師': 2.841284453868866, '提到': 0.946760892868042, '博客': 0.8902795314788818, '分配': 3.779073417186737, '收錄國內展演': 2.827899932861328, '異常值': 0.9356635212898254, '影片': 0.915725827217102, '麻煩': 0.9059646129608154, '字元': 0.8977420926094055, 'one hot encoding': 0.8175873160362244, '篇': 5.2325122356414795, '斜線': 8.963612794876099, '錯誤': 3.4377496242523193, '文件': 4.383580267429352, '現象': 0.9510537385940552, '位數': 1.8975083827972412, '人數': 0.7670204639434814, '提示': 1.8082762956619263, '答案': 0.9394747018814087, '經典案例': 0.9228866100311279, '資料科學': 5.375200867652893, '社團': 1.8752697706222534, '程式結構': 2.7501797676086426, '詞': 3.6768754720687866, '案例': 4.359405815601349, '空白': 0.951610803604126, '國內展演空間': 2.8462900519371033, '顯示': 0.8382145762443542, '籃分析': 3.6173391342163086, '字體': 5.606809020042419, '速度': 4.713075160980225, '資料科學家': 2.7742846608161926, '去除': 2.854308843612671, '資料匯出': 0.9504272937774658, '資料科學實作': 7.187703609466553, '請參考': 6.2667200565338135, 'Q1': 1.8174192905426025, 'Excel 檔': 3.605532705783844, '單詞': 2.8336830735206604, '系統': 1.7591395378112793, '階段': 2.794131577014923, '編碼': 3.463655471801758, '開發': 0.8722435832023621, '官方': 1.7933128476142883, '回答': 0.7700884342193604, '軸名稱': 0.9143341183662415, '傳值': 0.8952955603599548, '機器': 1.809421956539154, '軟體': 2.6911579370498657, '空格': 2.742808997631073, '視覺化': 6.584450006484985, '能力': 1.8899019360542297, '情形': 2.833963930606842, '台鐵': 0.8993585109710693, '寫': 0.8197847604751587, '算出來': 0.9130493402481079, '快捷': 6.2591360211372375, '分派': 0.9487426280975342, '判定': 0.9408794641494751, '門牌': 0.7916790246963501, '解決': 8.709873974323273, '低購買量': 0.81934654712677, 'Encode': 0.8204656839370728, '地圖': 0.9402908682823181, '跳脫': 4.677945017814636, '時刻表': 1.8829574584960938, '爬': 0.8884158134460449, '英文': 9.017747521400452, '註解': 1.7503093481063843, '讀取': 8.373754739761353, 'CSV': 9.352975070476532, '一段': 9.17777168750763, '語法': 0.8154147267341614, '溫度': 0.9443653225898743, '換行': 0.8150627017021179, '演算法': 0.9401127696037292, '目標': 0.9373155832290649, '電腦': 7.115081012248993, '建模': 0.9436709880828857, '生產成本調查表': 0.8660345077514648, '推薦': 0.8953236937522888, '表格': 1.8211190700531006, '函式': 0.9246187806129456, '失效': 1.7514878511428833, '自動': 0.9285253286361694, '原因': 0.910990297794342, '呈現': 15.348978817462921, '蘋果': 0.9354646801948547, '喜歡': 1.7734354138374329, '互動': 0.9158129692077637, '四分位數': 0.9543641805648804, '政府': 7.26878547668457, '網頁原始碼': 0.9469735026359558, '連接': 1.8286055326461792, '網址': 0.8385429978370667, '混淆矩陣函式': 3.4392595291137695, '標題': 4.516435086727142, '成本': 0.8389706611633301, '顯示中文': 4.601751685142517, '設為': 1.8663122057914734, '統計': 0.9391109943389893, '分析表': 2.8342093229293823, '文章': 0.9351190328598022, '確認': 4.612294375896454, '觀看': 1.8626882433891296, '套件更新': 1.8640459775924683, '本行': 0.9389250874519348}\n"
     ]
    }
   ],
   "source": [
    "vsm = sqs.spreading_similarity(depth=2, tokens=tokens, topn=10, vsm=vsm)\n",
    "print(vsm)"
   ]
  },
  {
   "cell_type": "markdown",
   "metadata": {},
   "source": [
    "## 3. Computing Question Similarity\n",
    "### SQS.cosine_similarity(vsm1, vsm2)\n",
    "<b>Parameters:</b>\n",
    "- vsm1: dict, <I>vector space model of a question 1</I>\n",
    "- vsm2: dict, <I>vector space model of a question 2</I>"
   ]
  },
  {
   "cell_type": "markdown",
   "metadata": {},
   "source": [
    "<b>A example of duplicate questions in different words from two students. </b>"
   ]
  },
  {
   "cell_type": "code",
   "execution_count": 13,
   "metadata": {},
   "outputs": [],
   "source": [
    "q1 = \"!dot -Tpng tree.dot -o tree.png 的問題 老師好:  我在執行決策分類樹時，執行!dot -Tpng tree.dot -o tree.png跑出來的結果是:'dot' 不是內部或外部命令、可執行的程式或批次檔。不知道是什麼原因造成這樣，麻煩老師了。\"\n",
    "tokens1 = sqs.text2ngram(text=q1, n=5)\n",
    "vsm1 = sqs.ngram2vsm(tokens1)\n",
    "vsm1 = sqs.spreading_similarity(depth=1, tokens=tokens1, topn=10, vsm=vsm1)"
   ]
  },
  {
   "cell_type": "code",
   "execution_count": 14,
   "metadata": {},
   "outputs": [],
   "source": [
    "q2 = \"dot command not found 在觀看課程影片的時候，dot轉換成png檔時發生問題，執行程式: !dot -Tpng tree.dot -o tree.png錯誤訊息: 'dot' 不是內部或外部命令、可執行的程式或批次檔。後來我去上網下載graphviz後，依然沒辦法解決。想請問有什麼方法可以下載和解決?PS: 電腦是使用windows 10\"\n",
    "tokens2 = sqs.text2ngram(text=q2, n=5)\n",
    "vsm2 = sqs.ngram2vsm(tokens2)\n",
    "vsm2 = sqs.spreading_similarity(depth=1, tokens=tokens2, topn=10, vsm=vsm2)"
   ]
  },
  {
   "cell_type": "code",
   "execution_count": 15,
   "metadata": {},
   "outputs": [
    {
     "data": {
      "text/plain": [
       "0.8578461340775784"
      ]
     },
     "execution_count": 15,
     "metadata": {},
     "output_type": "execute_result"
    }
   ],
   "source": [
    "sqs.cosine_similarity(vsm1, vsm2)"
   ]
  }
 ],
 "metadata": {
  "kernelspec": {
   "display_name": "Python 3",
   "language": "python",
   "name": "python3"
  },
  "language_info": {
   "codemirror_mode": {
    "name": "ipython",
    "version": 3
   },
   "file_extension": ".py",
   "mimetype": "text/x-python",
   "name": "python",
   "nbconvert_exporter": "python",
   "pygments_lexer": "ipython3",
   "version": "3.5.6"
  }
 },
 "nbformat": 4,
 "nbformat_minor": 5
}
