{
 "cells": [
  {
   "cell_type": "markdown",
   "metadata": {},
   "source": [
    "H. Hsu and N. Huang, “Xiao-Shih: A Self-enriched Question Answering Bot With Machine Learning on Chinese-Based MOOCs,” <I>IEEE Trans. Learning Technologies</I>. (Under Review)"
   ]
  },
  {
   "cell_type": "markdown",
   "metadata": {},
   "source": [
    "# Xiao-Shih: Question Answering Bot\n",
    "\n",
    "### xiaoshih.QA(wv_model_path, keywords)\n",
    "<b>Parameters:</b>\n",
    "- wv_model_path: str, <I>path object of a word2vec model</I>\n",
    "- QA_model_path: str, <I>path object of a question answering ML model</I>\n",
    "- bert_model_path: str, <I>path object of a BERT model</I>\n",
    "- keywords: set, <I>path object of keywords for tokenizing text</I>\n",
    "- ml_features_path: str, <I>path object of features with DataFrame for ML</I>"
   ]
  },
  {
   "cell_type": "code",
   "execution_count": 1,
   "metadata": {},
   "outputs": [],
   "source": [
    "import warnings\n",
    "warnings.filterwarnings('ignore')"
   ]
  },
  {
   "cell_type": "markdown",
   "metadata": {},
   "source": [
    "## 1. Preparing keywords and models (word2vec, QA, BERT)\n",
    "Course \"Python for Data Science\" (PDS): \n",
    "- word2vec model: word2vec_model/pds\n",
    "- QA model: QA_model/pds.pkl\n",
    "- BERT model: bert_model/pds\n",
    "- keywords: corpus/keywords_pds.txt\n",
    "- features: QA_model/features_pds\n",
    "\n",
    "Course \"Introduction to Computer Networks\" (ICN): \n",
    "- word2vec model: word2vec_model/icn\n",
    "- QA model: QA_model/icn.pkl\n",
    "- BERT model: bert_model/icn\n",
    "- keywords: corpus/keywords_icn.txt\n",
    "- features: QA_model/features_icn"
   ]
  },
  {
   "cell_type": "code",
   "execution_count": 2,
   "metadata": {},
   "outputs": [],
   "source": [
    "keywords = set()\n",
    "with open('corpus/keywords_pds.txt','r') as f:\n",
    "    for line in f:\n",
    "        keywords.add(line.strip())"
   ]
  },
  {
   "cell_type": "markdown",
   "metadata": {},
   "source": [
    "## 2. Predicting if the archived question is duplicate\n",
    "When Xiao-Shih receives a new question, it will find all candidate answers by ML model from the archived QA pairs.\n",
    "\n",
    "### QA.duplicate_question_prediction(new_question, archived_question, answerer)\n",
    "<b>Parameters:</b>\n",
    "- new_question: str, <I>the text of a new question</I>\n",
    "- archived_question: str, <I>the text of an archived question</I>\n",
    "- answerer: str, <I>{'instructor', 'student', 'stackoverflow'}</I>\n",
    "\n",
    "<b>Returns: boolean</b>\n",
    "\n",
    "Whether the new question and the archived question are duplicates or not. If yes, Xiao-Shih may respond the answer of the archived question to the learner."
   ]
  },
  {
   "cell_type": "code",
   "execution_count": 3,
   "metadata": {},
   "outputs": [],
   "source": [
    "from xiaoshih import QA\n",
    "qa = QA(wv_model_path='word2vec_model/pds', \n",
    "        QA_model_path='QA_model/pds.pkl',\n",
    "        bert_model_path='bert_model/pds',\n",
    "        keywords=keywords, \n",
    "        ml_features_path='QA_model/features_pds')"
   ]
  },
  {
   "cell_type": "code",
   "execution_count": 4,
   "metadata": {},
   "outputs": [],
   "source": [
    "new_question = \"!dot -Tpng tree.dot -o tree.png 的問題 老師好:  我在執行決策分類樹時，執行!dot -Tpng tree.dot -o tree.png跑出來的結果是:'dot' 不是內部或外部命令、可執行的程式或批次檔。不知道是什麼原因造成這樣，麻煩老師了。\"\n",
    "archived_question = \"dot command not found 在觀看課程影片的時候，dot轉換成png檔時發生問題，執行程式: !dot -Tpng tree.dot -o tree.png錯誤訊息: 'dot' 不是內部或外部命令、可執行的程式或批次檔。後來我去上網下載graphviz後，依然沒辦法解決。想請問有什麼方法可以下載和解決?PS: 電腦是使用windows 10\""
   ]
  },
  {
   "cell_type": "code",
   "execution_count": 5,
   "metadata": {},
   "outputs": [
    {
     "name": "stderr",
     "output_type": "stream",
     "text": [
      "Building prefix dict from the default dictionary ...\n",
      "Loading model from cache /var/folders/cr/_xbyk0wn69jdw48ygj_6w_w00000gn/T/jieba.cache\n",
      "Loading model cost 0.732 seconds.\n",
      "Prefix dict has been built successfully.\n"
     ]
    },
    {
     "data": {
      "text/plain": [
       "1.0"
      ]
     },
     "execution_count": 5,
     "metadata": {},
     "output_type": "execute_result"
    }
   ],
   "source": [
    "qa.answer_prediction(new_question=new_question, archived_question=archived_question, answerer='instructor')"
   ]
  }
 ],
 "metadata": {
  "kernelspec": {
   "display_name": "Python 3",
   "language": "python",
   "name": "python3"
  },
  "language_info": {
   "codemirror_mode": {
    "name": "ipython",
    "version": 3
   },
   "file_extension": ".py",
   "mimetype": "text/x-python",
   "name": "python",
   "nbconvert_exporter": "python",
   "pygments_lexer": "ipython3",
   "version": "3.5.6"
  }
 },
 "nbformat": 4,
 "nbformat_minor": 5
}
